{
 "cells": [
  {
   "cell_type": "code",
   "execution_count": null,
   "metadata": {},
   "outputs": [],
   "source": [
    "import qspectra as qs\n",
    "import numpy as np\n",
    "import matplotlib.pyplot as plt\n",
    "%matplotlib inline"
   ]
  },
  {
   "cell_type": "code",
   "execution_count": null,
   "metadata": {},
   "outputs": [],
   "source": [
    "ham = qs.ElectronicHamiltonian(np.array([[12881, 120], [120, 12719]]),\n",
    "                               bath=qs.DebyeBath(qs.CM_K * 77, 35, 106),\n",
    "                               dipoles=[[1, 0, 0], [2 * np.cos(.3), 2 * np.sin(.3), 0]])\n",
    "dimer = qs.RedfieldModel(ham, hilbert_subspace='gef', discard_imag_corr=True, unit_convert=qs.CM_FS)"
   ]
  },
  {
   "cell_type": "markdown",
   "metadata": {},
   "source": [
    "Parameters (other than bath) from [Yuen-Zhou et al., PNAS (2011)](http://arxiv.org/abs/1006.4866)"
   ]
  },
  {
   "cell_type": "markdown",
   "metadata": {},
   "source": [
    "## 3rd order response in time domain"
   ]
  },
  {
   "cell_type": "code",
   "execution_count": null,
   "metadata": {},
   "outputs": [],
   "source": [
    "%%time\n",
    "(t1, t2, t3), X = qs.third_order_response(dimer, coherence_time_max=1000,\n",
    "                                          population_times=np.linspace(0, 1000, 50),\n",
    "                                          geometry='-++', polarization='xxxx',\n",
    "                                          include_signal='GSB,ESE,ESA')"
   ]
  },
  {
   "cell_type": "code",
   "execution_count": null,
   "metadata": {},
   "outputs": [],
   "source": [
    "plt.figure(figsize=(10,4.5))\n",
    "plt.subplot(121)\n",
    "plt.title('Population time $T=%s$' % t2[0])\n",
    "plt.contourf(t1, t3, X[:,0,:].real, 20);\n",
    "plt.xlabel('Coherence time (fs)')\n",
    "plt.ylabel('Rephasing time (fs)')\n",
    "plt.subplot(122)\n",
    "plt.title('Population time $T=%s$' % t2[-1])\n",
    "plt.contourf(t1, t3, X[:,-1,:].real, 20);\n",
    "plt.xlabel('Coherence time (fs)')\n",
    "plt.gca().get_yaxis().set_ticklabels([]);"
   ]
  },
  {
   "cell_type": "markdown",
   "metadata": {},
   "source": [
    "## Convert to 2D spectra"
   ]
  },
  {
   "cell_type": "code",
   "execution_count": null,
   "metadata": {},
   "outputs": [],
   "source": [
    "%%time\n",
    "f1, X_ftt = qs.fourier_transform(t1, X, 0, rw_freq=dimer.rw_freq, sign=-1, unit_convert=qs.CM_FS)\n",
    "f3, X_ftf = qs.fourier_transform(t3, X_ftt, 2, rw_freq=dimer.rw_freq, unit_convert=qs.CM_FS)"
   ]
  },
  {
   "cell_type": "code",
   "execution_count": null,
   "metadata": {},
   "outputs": [],
   "source": [
    "plt.figure(figsize=(10,4.5))\n",
    "plt.subplot(121)\n",
    "plt.title('Population time $T=%s$' % t2[0])\n",
    "plt.contourf(f1, f3, X_ftf[:,0,:].real, 30, vmax=X_ftf.real.max())\n",
    "plt.xlabel('Coherence frequency (cm$^{-1}$)')\n",
    "plt.ylabel('Rephasing frequency (cm$^{-1}$)')\n",
    "plt.xlim(12300, 13300)\n",
    "plt.ylim(12300, 13300);\n",
    "\n",
    "plt.subplot(122)\n",
    "plt.title('Population time $T=%s$' % t2[-1])\n",
    "plt.contourf(f1, f3, X_ftf[:,-1,:].real, 30, vmax=X_ftf.real.max())\n",
    "plt.xlabel('Coherence frequency (cm$^{-1}$)')\n",
    "plt.gca().get_yaxis().set_ticklabels([]);\n",
    "plt.xlim(12300, 13300)\n",
    "plt.ylim(12300, 13300);"
   ]
  },
  {
   "cell_type": "markdown",
   "metadata": {},
   "source": [
    "Plot diagonal:"
   ]
  },
  {
   "cell_type": "code",
   "execution_count": null,
   "metadata": {},
   "outputs": [],
   "source": [
    "plt.plot(f1, np.einsum('iti->ti', X_ftf)[0].real, '-s');\n",
    "plt.plot(f1, np.einsum('iti->ti', X_ftf)[-1].real, '-s');\n",
    "plt.xlabel('Diagonal frequency (cm$^{-1}$)')\n",
    "plt.xlim(12400, 13200);"
   ]
  },
  {
   "cell_type": "markdown",
   "metadata": {},
   "source": [
    "Identify/plot cross-peaks"
   ]
  },
  {
   "cell_type": "code",
   "execution_count": null,
   "metadata": {},
   "outputs": [],
   "source": [
    "alpha, beta = np.argmin(np.abs(f1 - ham.E('e').reshape(-1, 1)), 1)\n",
    "print ham.E('e')"
   ]
  },
  {
   "cell_type": "code",
   "execution_count": null,
   "metadata": {},
   "outputs": [],
   "source": [
    "plt.plot(t2, X_ftf[alpha, :, alpha].real, '-s', label=r'$P_3(\\omega_\\alpha, T, \\omega_\\alpha)$')\n",
    "plt.plot(t2, X_ftf[beta, :, beta].real, '-s', label=r'$P_3(\\omega_\\beta, T, \\omega_\\beta)$')\n",
    "plt.plot(t2, X_ftf[alpha, :, beta].real, '-s', label=r'$P_3(\\omega_\\alpha, T, \\omega_\\beta)$')\n",
    "plt.plot(t2, X_ftf[beta, :, alpha].real, '-s', label=r'$P_3(\\omega_\\beta, T, \\omega_\\alpha)$')\n",
    "plt.xlabel('Population time (fs)')\n",
    "plt.legend(loc='lower right');"
   ]
  },
  {
   "cell_type": "code",
   "execution_count": null,
   "metadata": {},
   "outputs": [],
   "source": []
  }
 ],
 "metadata": {
  "kernelspec": {
   "display_name": "Python 2",
   "language": "python",
   "name": "python2"
  },
  "language_info": {
   "codemirror_mode": {
    "name": "ipython",
    "version": 2
   },
   "file_extension": ".py",
   "mimetype": "text/x-python",
   "name": "python",
   "nbconvert_exporter": "python",
   "pygments_lexer": "ipython2",
   "version": "2.7.14"
  }
 },
 "nbformat": 4,
 "nbformat_minor": 1
}
