{
 "cells": [
  {
   "cell_type": "markdown",
   "metadata": {},
   "source": [
    "# FMO dynamics simulated with Redfield theory"
   ]
  },
  {
   "cell_type": "markdown",
   "metadata": {},
   "source": [
    "Setup the Hamiltonian and dynamical model for FMO (see [arXiv:1307](http://arxiv.org/abs/1307.4807)):"
   ]
  },
  {
   "cell_type": "code",
   "execution_count": null,
   "metadata": {},
   "outputs": [],
   "source": [
    "import qspectra as qs\n",
    "import numpy as np\n",
    "import matplotlib.pyplot as plt\n",
    "%matplotlib inline"
   ]
  },
  {
   "cell_type": "code",
   "execution_count": null,
   "metadata": {},
   "outputs": [],
   "source": [
    "electronic_fmo = np.array(np.mat(\"\"\"\n",
    "    12400 -87.7 5.5 -5.9 6.7 -13.7 -9.9;\n",
    "    -87.7 12520 30.8 8.2 0.7 11.8 4.3;\n",
    "    5.5 30.8 12200 -53.5 -2.2 -9.6 6.;\n",
    "    -5.9 8.2 -53.5 12310 -70.7 -17. -63.3;\n",
    "    6.7 0.7 -2.2 -70.7 12470 81.1 -1.3;\n",
    "    -13.7 11.8 -9.6 -17. 81.1 12620 39.7;\n",
    "    -9.9 4.3 6. -63.3 -1.3 39.7 12430\n",
    "    \"\"\"))\n",
    "\n",
    "dipoles_fmo = np.array([d / np.linalg.norm(d) for d in\n",
    "    np.array([[3.019, 3.442, 0.797, 3.213, 2.969, 0.547, 1.983],\n",
    "              [2.284, -2.023, -3.871, 2.145, -2.642, 3.562, 2.837],\n",
    "              [1.506, 0.431, 0.853, 1.112, -0.661, -1.851, 2.015]]).T])\n",
    "\n",
    "fmo_hamiltonian = qs.ElectronicHamiltonian(electronic_fmo,\n",
    "                                           bath=qs.DebyeBath(CM_K * 77, 35, 106),\n",
    "                                           dipoles=dipoles_fmo,\n",
    "                                           disorder=100)\n",
    "dynamical_model = qs.RedfieldModel(fmo_hamiltonian, hilbert_subspace='gef', unit_convert=qs.CM_FS)"
   ]
  },
  {
   "cell_type": "markdown",
   "metadata": {},
   "source": [
    "## Excited state dynamics"
   ]
  },
  {
   "cell_type": "markdown",
   "metadata": {},
   "source": [
    "Simulate dynamics in the 1-excitation subspace starting on site 1 for 100 ps:"
   ]
  },
  {
   "cell_type": "code",
   "execution_count": null,
   "metadata": {},
   "outputs": [],
   "source": [
    "%time t, rho = qs.simulate_dynamics(dynamical_model, [1,0,0,0,0,0,0], 100000)"
   ]
  },
  {
   "cell_type": "code",
   "execution_count": null,
   "metadata": {},
   "outputs": [],
   "source": [
    "plt.title('Excitation from site 1')\n",
    "plt.plot(t, np.einsum('tii->ti', rho.reshape(-1, 7, 7)).real)\n",
    "plt.xlim(0, 1000)\n",
    "plt.xlabel('Time (fs)')\n",
    "plt.ylabel('Population')\n",
    "plt.legend(['Site {}'.format(n) for n in xrange(1, 8)]);"
   ]
  },
  {
   "cell_type": "markdown",
   "metadata": {},
   "source": [
    "The long-time evolution indeed approaches thermal equilibrium:"
   ]
  },
  {
   "cell_type": "code",
   "execution_count": null,
   "metadata": {},
   "outputs": [],
   "source": [
    "print np.diag(qs.ket_vec_to_matrix(rho[-1])).real\n",
    "\n",
    "import scipy\n",
    "def thermal_state(hamiltonian, temperature):\n",
    "    rho = scipy.linalg.expm(-hamiltonian.in_rotating_frame().H_1exc / temperature)\n",
    "    return rho / np.trace(rho)\n",
    "\n",
    "print np.diag(thermal_state(fmo_hamiltonian, qs.CM_K * 77)).real"
   ]
  },
  {
   "cell_type": "markdown",
   "metadata": {},
   "source": [
    "## Gaussian pump pulse"
   ]
  },
  {
   "cell_type": "markdown",
   "metadata": {},
   "source": [
    "Simulate dynamics for an x-polarized Gaussian pump pulse centered at 800nm with a 50fs FWHM:"
   ]
  },
  {
   "cell_type": "code",
   "execution_count": null,
   "metadata": {},
   "outputs": [],
   "source": [
    "%%time\n",
    "pump = qs.GaussianPulse(12500, 50, scale=1e-3, freq_convert=qs.CM_FS)\n",
    "t, rho = qs.simulate_pump(dynamical_model, pump, 'x', 5000)"
   ]
  },
  {
   "cell_type": "code",
   "execution_count": null,
   "metadata": {},
   "outputs": [],
   "source": [
    "plt.title('Laser excitation')\n",
    "plt.plot(t, 2 * pump(t, 12500).real, 'k--')\n",
    "plt.plot(t, np.einsum('tii->ti', rho.reshape(-1, 8, 8)[:, 1:, 1:]).real)\n",
    "plt.xlabel('Time (fs)')\n",
    "plt.ylabel('Population')\n",
    "plt.xlim(pump.t_init, 1000)\n",
    "plt.legend(np.concatenate([['Laser (arb. units)'], ['Site {}'.format(n) for n in xrange(1, 8)]]));"
   ]
  },
  {
   "cell_type": "markdown",
   "metadata": {},
   "source": [
    "## Absorption spectra"
   ]
  },
  {
   "cell_type": "code",
   "execution_count": null,
   "metadata": {},
   "outputs": [],
   "source": [
    "%time f, X = qs.absorption_spectra(dynamical_model, 2000, exact_isotropic_average=True)\n",
    "%time f, X2 = qs.absorption_spectra(dynamical_model, 2000, exact_isotropic_average=True, ensemble_size=5)"
   ]
  },
  {
   "cell_type": "code",
   "execution_count": null,
   "metadata": {},
   "outputs": [],
   "source": [
    "plt.plot(f, X)\n",
    "plt.plot(f, X2)\n",
    "plt.xlim(12000, 12800);"
   ]
  },
  {
   "cell_type": "markdown",
   "metadata": {},
   "source": [
    "## Pump-probe spectra"
   ]
  },
  {
   "cell_type": "markdown",
   "metadata": {},
   "source": [
    "Pump-probe signal decomposed into a sum of ground-state-bleach (GSB), excited-state-emission (ESE) and excited-state-absorption (ESA) contributions. Uses the final state `rho` from simulation of the Gaussian pump pulse above. "
   ]
  },
  {
   "cell_type": "code",
   "execution_count": null,
   "metadata": {},
   "outputs": [],
   "source": [
    "%%time\n",
    "X = {}\n",
    "for signal in ['GSB', 'ESE', 'ESA']:\n",
    "    f, X[signal] = qs.impulsive_probe(dynamical_model, rho[-1], 5000, 'xx', include_signal=signal)"
   ]
  },
  {
   "cell_type": "code",
   "execution_count": null,
   "metadata": {},
   "outputs": [],
   "source": [
    "plt.plot(f, X['GSB'].real, 'b-')\n",
    "plt.plot(f, X['ESE'].real, 'g-')\n",
    "plt.plot(f, X['ESA'].real, 'r-')\n",
    "plt.plot(f, np.sum(X.values(), 0).real, 'k-')\n",
    "plt.legend(['GSB', 'ESE', 'ESA', 'Total'])\n",
    "plt.xlim(12000, 12800);"
   ]
  },
  {
   "cell_type": "code",
   "execution_count": null,
   "metadata": {},
   "outputs": [],
   "source": [
    "%%time\n",
    "f, X = qs.impulsive_probe(dynamical_model, rho, 5000, 'xx',\n",
    "                          exact_isotropic_average=True, include_signal='ESE')"
   ]
  },
  {
   "cell_type": "code",
   "execution_count": null,
   "metadata": {},
   "outputs": [],
   "source": [
    "plt.title('Pump-probe spectrum (ESE only)')\n",
    "plt.contourf(t, f, X.real.T, 20)\n",
    "plt.plot([pump.t_final, pump.t_final], [12000, 12600], 'k--')\n",
    "plt.ylim(12000, 12600)\n",
    "plt.xlabel('Population time (fs)')\n",
    "plt.ylabel('Emission frequency (cm$^{-1}$)');"
   ]
  }
 ],
 "metadata": {
  "kernelspec": {
   "display_name": "Python 2",
   "language": "python",
   "name": "python2"
  },
  "language_info": {
   "codemirror_mode": {
    "name": "ipython",
    "version": 2
   },
   "file_extension": ".py",
   "mimetype": "text/x-python",
   "name": "python",
   "nbconvert_exporter": "python",
   "pygments_lexer": "ipython2",
   "version": "2.7.14"
  }
 },
 "nbformat": 4,
 "nbformat_minor": 1
}
