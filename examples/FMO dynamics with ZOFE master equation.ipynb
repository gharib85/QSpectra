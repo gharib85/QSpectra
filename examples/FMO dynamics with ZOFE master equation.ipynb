{
 "cells": [
  {
   "cell_type": "markdown",
   "metadata": {},
   "source": [
    "# FMO dynamics simulated with ZOFE master equation"
   ]
  },
  {
   "cell_type": "markdown",
   "metadata": {},
   "source": [
    "Setup the Hamiltonian and dynamical model for FMO (see [arXiv:1307](http://arxiv.org/abs/1307.4807)):"
   ]
  },
  {
   "cell_type": "code",
   "execution_count": null,
   "metadata": {},
   "outputs": [],
   "source": [
    "%matplotlib inline\n",
    "import matplotlib.pyplot as plt\n",
    "import numpy as np\n",
    "from qspectra import *"
   ]
  },
  {
   "cell_type": "code",
   "execution_count": null,
   "metadata": {},
   "outputs": [],
   "source": [
    "electronic_fmo = np.array(np.mat(\"\"\"\n",
    "    12400 -87.7 5.5 -5.9 6.7 -13.7 -9.9;\n",
    "    -87.7 12520 30.8 8.2 0.7 11.8 4.3;\n",
    "    5.5 30.8 12200 -53.5 -2.2 -9.6 6.;\n",
    "    -5.9 8.2 -53.5 12310 -70.7 -17. -63.3;\n",
    "    6.7 0.7 -2.2 -70.7 12470 81.1 -1.3;\n",
    "    -13.7 11.8 -9.6 -17. 81.1 12620 39.7;\n",
    "    -9.9 4.3 6. -63.3 -1.3 39.7 12430\n",
    "    \"\"\"))\n",
    "\n",
    "dipoles_fmo = np.array([d / np.linalg.norm(d) for d in\n",
    "    np.array([[3.019, 3.442, 0.797, 3.213, 2.969, 0.547, 1.983],\n",
    "              [2.284, -2.023, -3.871, 2.145, -2.642, 3.562, 2.837],\n",
    "              [1.506, 0.431, 0.853, 1.112, -0.661, -1.851, 2.015]]).T])\n",
    "\n",
    "# Bath parameters for pseudomode bath -- fit to the Drude spectral density for FMO for 77K of Ishizaki and Fleming\n",
    "# (each PM is represented by a Lorentzian at frequency Omega, with width gamma, and of strength huang\n",
    "#  in the bath correlation SPECTRUM, NOT spectral density)\n",
    "\n",
    "Omega = [-500., -200., -90., 1., 21., 60., 80., 130., 200., 300., 400., 500., 600., 800., 1100., 1500.] # frequencies of PMs\n",
    "huang = [-2.5133e-03, -7.5398e-03, -2.5133e-02, 5.0265e+01, 2.2619e+00, 4.5239e-02, 2.7646e-01,\n",
    "          9.2991e-03, 2.2619e-02, 1.5080e-02, 3.0159e-03, \n",
    "          3.5186e-03, 2.8274e-04, 1.7593e-03, 4.3982e-04, 4.3982e-04] # Huang-Rhys factors of PMs (couplings to PMs)\n",
    "gamma = [500., 100., 50., 50., 50., 50., 80., 40., 80., 150., 200., 200., 80., 250., 200., 300.] # dampings of the PMs\n",
    "\n",
    "n_sites = len(electronic_fmo)\n",
    "numb_pm = len(Omega)\n",
    "on = np.ones(n_sites, complex)\n",
    "\n",
    "Omega = np.array([Omega[pm]*on for pm in range(numb_pm)])\n",
    "huang = np.array([huang[pm]*on for pm in range(numb_pm)])\n",
    "gamma = np.array([gamma[pm]*on for pm in range(numb_pm)])\n",
    "\n",
    "\n",
    "fmo_hamiltonian = ElectronicHamiltonian(electronic_fmo, \n",
    "                                        bath=PseudomodeBath(numb_pm, Omega, gamma, huang), \n",
    "                                        dipoles=dipoles_fmo)"
   ]
  },
  {
   "cell_type": "markdown",
   "metadata": {},
   "source": [
    "## Excited state dynamics"
   ]
  },
  {
   "cell_type": "markdown",
   "metadata": {},
   "source": [
    "Simulate dynamics in the 1-excitation subspace starting on site 1 for 1 ps:"
   ]
  },
  {
   "cell_type": "code",
   "execution_count": null,
   "metadata": {},
   "outputs": [],
   "source": [
    "%%time\n",
    "dynamical_model = ZOFEModel(fmo_hamiltonian, hilbert_subspace='e', unit_convert=CM_FS)\n",
    "t, rho = simulate_dynamics(dynamical_model, [1,0,0,0,0,0,0], 1000)"
   ]
  },
  {
   "cell_type": "code",
   "execution_count": null,
   "metadata": {},
   "outputs": [],
   "source": [
    "plt.title('Excitation from site 1')\n",
    "plt.plot(t, np.einsum('tii->ti', rho.reshape(-1, 7, 7)).real)\n",
    "plt.xlim(0, 1000)\n",
    "plt.xlabel('Time (fs)')\n",
    "plt.ylabel('Population')\n",
    "plt.legend(['Site {}'.format(n) for n in xrange(1, 8)]);"
   ]
  },
  {
   "cell_type": "markdown",
   "metadata": {},
   "source": [
    "## Gaussian pump pulse"
   ]
  },
  {
   "cell_type": "markdown",
   "metadata": {},
   "source": [
    "Simulate dynamics for an x-polarized Gaussian pump pulse centered at 800nm with a 50fs FWHM:"
   ]
  },
  {
   "cell_type": "code",
   "execution_count": null,
   "metadata": {},
   "outputs": [],
   "source": [
    "%%time\n",
    "pump = GaussianPulse(12500, 50, scale=1e-3, freq_convert=CM_FS)\n",
    "dynamical_model = ZOFEModel(fmo_hamiltonian, hilbert_subspace='ge', unit_convert=CM_FS)\n",
    "t, rho_oop_vec = simulate_pump(dynamical_model, pump, 'x', 1000)\n",
    "rho = np.array([dynamical_model.state_vec_to_operators(k)[0] for k in rho_oop_vec])"
   ]
  },
  {
   "cell_type": "code",
   "execution_count": null,
   "metadata": {},
   "outputs": [],
   "source": [
    "plt.title('Laser excitation')\n",
    "plt.plot(t, 2 * pump(t, 12500).real, 'k--')\n",
    "plt.plot(t, np.einsum('tii->ti', rho.reshape(-1, 8, 8)[:, 1:, 1:]).real)\n",
    "plt.xlabel('Time (fs)')\n",
    "plt.ylabel('Population')\n",
    "plt.xlim(pump.t_init, 1000)\n",
    "plt.legend(np.concatenate([['Laser (arb. units)'], ['Site {}'.format(n) for n in xrange(1, 8)]]));"
   ]
  },
  {
   "cell_type": "markdown",
   "metadata": {},
   "source": [
    "## Absorption spectra"
   ]
  },
  {
   "cell_type": "code",
   "execution_count": null,
   "metadata": {},
   "outputs": [],
   "source": [
    "%%time\n",
    "f, X = absorption_spectra(dynamical_model, 2000)"
   ]
  },
  {
   "cell_type": "code",
   "execution_count": null,
   "metadata": {},
   "outputs": [],
   "source": [
    "plt.plot(f, X)\n",
    "plt.xlim(12000, 12800);"
   ]
  },
  {
   "cell_type": "code",
   "execution_count": null,
   "metadata": {},
   "outputs": [],
   "source": []
  }
 ],
 "metadata": {
  "kernelspec": {
   "display_name": "Python 2",
   "language": "python",
   "name": "python2"
  },
  "language_info": {
   "codemirror_mode": {
    "name": "ipython",
    "version": 2
   },
   "file_extension": ".py",
   "mimetype": "text/x-python",
   "name": "python",
   "nbconvert_exporter": "python",
   "pygments_lexer": "ipython2",
   "version": "2.7.14"
  }
 },
 "nbformat": 4,
 "nbformat_minor": 1
}
