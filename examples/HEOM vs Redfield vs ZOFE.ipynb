{
 "cells": [
  {
   "cell_type": "code",
   "execution_count": null,
   "metadata": {
    "scrolled": true
   },
   "outputs": [],
   "source": [
    "import qspectra as qs\n",
    "import numpy as np"
   ]
  },
  {
   "cell_type": "code",
   "execution_count": null,
   "metadata": {},
   "outputs": [],
   "source": [
    "import matplotlib.pyplot as plt\n",
    "%matplotlib inline"
   ]
  },
  {
   "cell_type": "code",
   "execution_count": null,
   "metadata": {},
   "outputs": [],
   "source": [
    "ham = qs.ElectronicHamiltonian(np.array([[12881, 120], [120, 12719]]),\n",
    "                               bath=qs.DebyeBath(qs.CM_K * 77, 35, 106),\n",
    "                               dipoles=[[1, 0, 0], [2 * np.cos(.3), 2 * np.sin(.3), 0]])\n",
    "\n",
    "red_dimer = qs.RedfieldModel(ham, hilbert_subspace='gef', discard_imag_corr=True, unit_convert=qs.CM_FS)\n",
    "heom_dimer = qs.HEOMModel(ham, hilbert_subspace='gef', unit_convert=qs.CM_FS, level_cutoff=3, low_temp_corr=False)\n"
   ]
  },
  {
   "cell_type": "code",
   "execution_count": null,
   "metadata": {},
   "outputs": [],
   "source": [
    "Omega = [-500., -200., -90., 1., 21., 60., 80., 130., 200., 300., 400., 500., 600., 800., 1100., 1500.] # frequencies of PMs\n",
    "huang = [-2.5133e-03, -7.5398e-03, -2.5133e-02, 5.0265e+01, 2.2619e+00, 4.5239e-02, 2.7646e-01,\n",
    "          9.2991e-03, 2.2619e-02, 1.5080e-02, 3.0159e-03, \n",
    "          3.5186e-03, 2.8274e-04, 1.7593e-03, 4.3982e-04, 4.3982e-04] # Huang-Rhys factors of PMs (couplings to PMs)\n",
    "gamma = [500., 100., 50., 50., 50., 50., 80., 40., 80., 150., 200., 200., 80., 250., 200., 300.] # dampings of the PMs\n",
    "\n",
    "n_sites = ham.n_sites\n",
    "numb_pm = len(Omega)\n",
    "on = np.ones(n_sites, complex)\n",
    "\n",
    "Omega = np.array([Omega[pm]*on for pm in range(numb_pm)])\n",
    "huang = np.array([huang[pm]*on for pm in range(numb_pm)])\n",
    "gamma = np.array([gamma[pm]*on for pm in range(numb_pm)])\n",
    "\n",
    "zofe_ham = qs.ElectronicHamiltonian(\n",
    "    ham.H('e'), bath=qs.PseudomodeBath(numb_pm, Omega, gamma, huang), \n",
    "    dipoles=ham.dipoles)\n",
    "zofe_dimer = qs.ZOFEModel(zofe_ham, hilbert_subspace='ge', unit_convert=qs.CM_FS)\n"
   ]
  },
  {
   "cell_type": "markdown",
   "metadata": {},
   "source": [
    "## Absorption spectra"
   ]
  },
  {
   "cell_type": "code",
   "execution_count": null,
   "metadata": {
    "scrolled": false
   },
   "outputs": [],
   "source": [
    "f, X = qs.absorption_spectra(heom_dimer, 10000)\n",
    "f2, X2 = qs.absorption_spectra(red_dimer, 10000)\n",
    "f3, X3 = qs.absorption_spectra(zofe_dimer, 10000)"
   ]
  },
  {
   "cell_type": "code",
   "execution_count": null,
   "metadata": {},
   "outputs": [],
   "source": [
    "plt.plot(f, X, label='HEOM')\n",
    "plt.plot(f2, X2, label='Redfield')\n",
    "plt.plot(f3, X3, label='ZOFE')\n",
    "plt.xlim(12500, 13200)\n",
    "plt.legend()"
   ]
  },
  {
   "cell_type": "markdown",
   "metadata": {},
   "source": [
    "## 2D spectra"
   ]
  },
  {
   "cell_type": "code",
   "execution_count": null,
   "metadata": {
    "scrolled": true
   },
   "outputs": [],
   "source": [
    "%%time\n",
    "(f1, t2, f3), X = qs.two_dimensional_spectra(red_dimer, coherence_time_max=1000,\n",
    "                                             population_times=np.linspace(0, 1000, 50),\n",
    "                                             geometry='-++', polarization='xxxx',\n",
    "                                             include_signal='GSB,ESE,ESA')"
   ]
  },
  {
   "cell_type": "code",
   "execution_count": null,
   "metadata": {},
   "outputs": [],
   "source": [
    "plt.figure(figsize=(8, 8))\n",
    "plt.contourf(f1, f3, X[:,5,:].real, 30, cmap='RdBu', vmax=6e5, vmin=-6e5)\n",
    "plt.xlabel('Coherence frequency (cm$^{-1}$)')\n",
    "plt.ylabel('Rephasing frequency (cm$^{-1}$)')\n",
    "plt.xlim(12300, 13300)\n",
    "plt.ylim(12300, 13300);\n"
   ]
  },
  {
   "cell_type": "code",
   "execution_count": null,
   "metadata": {
    "scrolled": false
   },
   "outputs": [],
   "source": [
    "%%time\n",
    "(f1, t2, f3), X = qs.two_dimensional_spectra(heom_dimer, coherence_time_max=1000,\n",
    "                                             population_times=np.linspace(0, 1000, 50),\n",
    "                                             geometry='-++', polarization='xxxx',\n",
    "                                             include_signal='GSB,ESE,ESA')"
   ]
  },
  {
   "cell_type": "code",
   "execution_count": null,
   "metadata": {},
   "outputs": [],
   "source": [
    "plt.figure(figsize=(8, 8))\n",
    "plt.contourf(f1, f3, X[:,5,:].real, 30, cmap='RdBu', vmax=6e5, vmin=-6e5)\n",
    "plt.xlabel('Coherence frequency (cm$^{-1}$)')\n",
    "plt.ylabel('Rephasing frequency (cm$^{-1}$)')\n",
    "plt.xlim(12300, 13300)\n",
    "plt.ylim(12300, 13300);\n"
   ]
  },
  {
   "cell_type": "code",
   "execution_count": null,
   "metadata": {},
   "outputs": [],
   "source": []
  }
 ],
 "metadata": {
  "kernelspec": {
   "display_name": "Python 2",
   "language": "python",
   "name": "python2"
  },
  "language_info": {
   "codemirror_mode": {
    "name": "ipython",
    "version": 2
   },
   "file_extension": ".py",
   "mimetype": "text/x-python",
   "name": "python",
   "nbconvert_exporter": "python",
   "pygments_lexer": "ipython2",
   "version": "2.7.14"
  }
 },
 "nbformat": 4,
 "nbformat_minor": 1
}
