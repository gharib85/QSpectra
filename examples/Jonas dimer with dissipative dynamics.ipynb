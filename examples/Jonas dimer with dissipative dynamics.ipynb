{
 "cells": [
  {
   "cell_type": "code",
   "execution_count": null,
   "metadata": {},
   "outputs": [],
   "source": [
    "import qspectra as qs\n",
    "import numpy as np\n",
    "import matplotlib.pyplot as plt\n",
    "%matplotlib inline"
   ]
  },
  {
   "cell_type": "code",
   "execution_count": null,
   "metadata": {},
   "outputs": [],
   "source": [
    "H_electronic = np.array([[11500, 66], [66, 11650]])\n",
    "n_vibrational_levels = np.array([2, 2])\n",
    "vib_energies = np.array([200, 200])\n",
    "elec_vib_couplings = -32 * np.eye(2)\n",
    "bath = qs.DebyeBath(CM_K * 77, 1.5 * 35, 106)\n",
    "dipoles = [[1,0,0], [0,1,0]]\n",
    "\n",
    "dimer_ham = qs.VibronicHamiltonian(\n",
    "    qs.ElectronicHamiltonian(H_electronic, dipoles=dipoles, bath=bath),\n",
    "    n_vibrational_levels, vib_energies, elec_vib_couplings)\n",
    "dimer = qs.RedfieldModel(dimer_ham, hilbert_subspace='gef', unit_convert=qs.CM_FS,\n",
    "                      discard_imag_corr=True)"
   ]
  },
  {
   "cell_type": "markdown",
   "metadata": {},
   "source": [
    "## Excited state dynamics"
   ]
  },
  {
   "cell_type": "code",
   "execution_count": null,
   "metadata": {},
   "outputs": [],
   "source": [
    "%%time \n",
    "t, rho = qs.simulate_dynamics(dimer, unit_vec(0, 2 * 2 ** 2), 1000)"
   ]
  },
  {
   "cell_type": "code",
   "execution_count": null,
   "metadata": {},
   "outputs": [],
   "source": [
    "plt.plot(t, np.einsum('tii->ti', rho.reshape(-1, 8, 8)).real);"
   ]
  },
  {
   "cell_type": "markdown",
   "metadata": {},
   "source": [
    "## Absorption spectra"
   ]
  },
  {
   "cell_type": "code",
   "execution_count": null,
   "metadata": {},
   "outputs": [],
   "source": [
    "%%time\n",
    "f, X = qs.absorption_spectra(dimer, 10000)"
   ]
  },
  {
   "cell_type": "code",
   "execution_count": null,
   "metadata": {},
   "outputs": [],
   "source": [
    "plt.plot(f, X)\n",
    "plt.xlim(11000, 12000);"
   ]
  },
  {
   "cell_type": "markdown",
   "metadata": {},
   "source": [
    "## Monomer absorption spectra (for reference)"
   ]
  },
  {
   "cell_type": "code",
   "execution_count": null,
   "metadata": {},
   "outputs": [],
   "source": [
    "monomer_ham = qs.VibronicHamiltonian(\n",
    "    qs.ElectronicHamiltonian(H_electronic[:1, :1], dipoles=dipoles[:1], bath=bath),\n",
    "    n_vibrational_levels[:1], vib_energies[:1], elec_vib_couplings[:1, :1])\n",
    "monomer = qs.RedfieldModel(monomer_ham, hilbert_subspace='ge', unit_convert=qs.CM_FS)"
   ]
  },
  {
   "cell_type": "code",
   "execution_count": null,
   "metadata": {},
   "outputs": [],
   "source": [
    "%%time\n",
    "f, X = qs.absorption_spectra(monomer, 10000)"
   ]
  },
  {
   "cell_type": "code",
   "execution_count": null,
   "metadata": {},
   "outputs": [],
   "source": [
    "plt.plot(f, X)\n",
    "plt.xlim(11000, 12000);"
   ]
  },
  {
   "cell_type": "markdown",
   "metadata": {},
   "source": [
    "## 2D spectra"
   ]
  },
  {
   "cell_type": "code",
   "execution_count": null,
   "metadata": {},
   "outputs": [],
   "source": [
    "%%time\n",
    "(t1, t2, t3), X = qs.third_order_response(dimer, coherence_time_max=1000,\n",
    "                                          population_times=np.linspace(0, 1000, num=100),\n",
    "                                          geometry='-++', polarization='xxxx',\n",
    "                                          include_signal='GSB', exact_isotropic_average=True)"
   ]
  },
  {
   "cell_type": "code",
   "execution_count": null,
   "metadata": {},
   "outputs": [],
   "source": [
    "%%time\n",
    "f1, X_ftt = qs.fourier_transform(t1, X, axis=0, rw_freq=dimer.rw_freq, sign=-1, unit_convert=qs.CM_FS)\n",
    "f3, X_ftf = qs.fourier_transform(t3, X_ftt, axis=2, rw_freq=dimer.rw_freq, unit_convert=qs.CM_FS)"
   ]
  },
  {
   "cell_type": "code",
   "execution_count": null,
   "metadata": {},
   "outputs": [],
   "source": [
    "plt.figure(figsize=(6,5))\n",
    "plt.contourf(f3, f1, X_ftf[:,0,:].real.T, 50)\n",
    "plt.xlim(11100, 12000)\n",
    "plt.ylim(11100, 12000)\n",
    "plt.colorbar();"
   ]
  },
  {
   "cell_type": "code",
   "execution_count": null,
   "metadata": {},
   "outputs": [],
   "source": [
    "alpha, beta = np.argmin(np.abs(f1 - np.array([11530, 11730]).reshape(-1,1)), 1)"
   ]
  },
  {
   "cell_type": "code",
   "execution_count": null,
   "metadata": {},
   "outputs": [],
   "source": [
    "plt.plot(t2, X_ftf[beta, :, alpha].real, '-sr')\n",
    "plt.plot(t2, X_ftf[alpha, :, beta].real, '-sg');"
   ]
  }
 ],
 "metadata": {
  "kernelspec": {
   "display_name": "Python 2",
   "language": "python",
   "name": "python2"
  },
  "language_info": {
   "codemirror_mode": {
    "name": "ipython",
    "version": 2
   },
   "file_extension": ".py",
   "mimetype": "text/x-python",
   "name": "python",
   "nbconvert_exporter": "python",
   "pygments_lexer": "ipython2",
   "version": "2.7.14"
  }
 },
 "nbformat": 4,
 "nbformat_minor": 1
}
